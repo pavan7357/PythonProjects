{
 "cells": [
  {
   "cell_type": "markdown",
   "metadata": {},
   "source": [
    "# Task 1 - Basic Countdown"
   ]
  },
  {
   "cell_type": "code",
   "execution_count": 7,
   "metadata": {},
   "outputs": [
    {
     "name": "stdout",
     "output_type": "stream",
     "text": [
      "Let's count with me: \n",
      "19 18 17 16 15 14 13 12 11 10 9 8 7 6 5 4 3 2 1 \n",
      "Happy New Year 2025\n"
     ]
    }
   ],
   "source": [
    "n = int(input(\"Enter the number\"))\n",
    "print(\"Let's count with me: \")\n",
    "for i in range(n-1,-1,-1):\n",
    "    if i==0:\n",
    "        print()\n",
    "        print(\"Happy New Year 2025\")\n",
    "    else:\n",
    "        print(i,end=\" \")"
   ]
  },
  {
   "cell_type": "markdown",
   "metadata": {},
   "source": [
    "# Task 2 - Sum of a List"
   ]
  },
  {
   "cell_type": "code",
   "execution_count": 8,
   "metadata": {},
   "outputs": [
    {
     "name": "stdout",
     "output_type": "stream",
     "text": [
      "So, the total summation of the list:  92\n"
     ]
    }
   ],
   "source": [
    "listSum = [1,2,3,4,5,6,7,8,9,10,9,7,6,5,4,3,2,1]\n",
    "sum = 0\n",
    "for i in listSum:\n",
    "    sum += i\n",
    "print(\"So, the total summation of the list: \",sum)"
   ]
  },
  {
   "cell_type": "markdown",
   "metadata": {},
   "source": [
    "# Task 3: Filter Even Numbers"
   ]
  },
  {
   "cell_type": "code",
   "execution_count": 10,
   "metadata": {},
   "outputs": [
    {
     "name": "stdout",
     "output_type": "stream",
     "text": [
      "Filtered List:  [2, 4, 6, 8, 10, 12, 14]\n"
     ]
    }
   ],
   "source": [
    "AllNum = [1,2,3,4,5,6,7,8,9,10,11,12,13,14,15]\n",
    "FilterNum = []\n",
    "for i in AllNum:\n",
    "    if i%2==0:\n",
    "        FilterNum.append(i)\n",
    "print(\"Filtered List: \",FilterNum)\n"
   ]
  },
  {
   "cell_type": "code",
   "execution_count": null,
   "metadata": {},
   "outputs": [],
   "source": [
    " "
   ]
  }
 ],
 "metadata": {
  "kernelspec": {
   "display_name": "Python 3",
   "language": "python",
   "name": "python3"
  },
  "language_info": {
   "codemirror_mode": {
    "name": "ipython",
    "version": 3
   },
   "file_extension": ".py",
   "mimetype": "text/x-python",
   "name": "python",
   "nbconvert_exporter": "python",
   "pygments_lexer": "ipython3",
   "version": "3.12.1"
  }
 },
 "nbformat": 4,
 "nbformat_minor": 2
}
