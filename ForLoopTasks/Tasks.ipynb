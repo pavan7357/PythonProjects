{
 "cells": [
  {
   "cell_type": "markdown",
   "metadata": {},
   "source": [
    "# Task 1 - Basic Countdown"
   ]
  },
  {
   "cell_type": "code",
   "execution_count": 7,
   "metadata": {},
   "outputs": [
    {
     "name": "stdout",
     "output_type": "stream",
     "text": [
      "Let's count with me: \n",
      "19 18 17 16 15 14 13 12 11 10 9 8 7 6 5 4 3 2 1 \n",
      "Happy New Year 2025\n"
     ]
    }
   ],
   "source": [
    "n = int(input(\"Enter the number\"))\n",
    "print(\"Let's count with me: \")\n",
    "for i in range(n-1,-1,-1):\n",
    "    if i==0:\n",
    "        print()\n",
    "        print(\"Happy New Year 2025\")\n",
    "    else:\n",
    "        print(i,end=\" \")"
   ]
  },
  {
   "cell_type": "markdown",
   "metadata": {},
   "source": [
    "# Task 2 - Sum of a List"
   ]
  },
  {
   "cell_type": "code",
   "execution_count": 8,
   "metadata": {},
   "outputs": [
    {
     "name": "stdout",
     "output_type": "stream",
     "text": [
      "So, the total summation of the list:  92\n"
     ]
    }
   ],
   "source": [
    "listSum = [1,2,3,4,5,6,7,8,9,10,9,7,6,5,4,3,2,1]\n",
    "sum = 0\n",
    "for i in listSum:\n",
    "    sum += i\n",
    "print(\"So, the total summation of the list: \",sum)"
   ]
  },
  {
   "cell_type": "markdown",
   "metadata": {},
   "source": [
    "# Task 3: Filter Even Numbers"
   ]
  },
  {
   "cell_type": "code",
   "execution_count": 10,
   "metadata": {},
   "outputs": [
    {
     "name": "stdout",
     "output_type": "stream",
     "text": [
      "Filtered List:  [2, 4, 6, 8, 10, 12, 14]\n"
     ]
    }
   ],
   "source": [
    "AllNum = [1,2,3,4,5,6,7,8,9,10,11,12,13,14,15]\n",
    "FilterNum = []\n",
    "for i in AllNum:\n",
    "    if i%2==0:\n",
    "        FilterNum.append(i)\n",
    "print(\"Filtered List: \",FilterNum)\n"
   ]
  },
  {
   "cell_type": "markdown",
   "metadata": {},
   "source": [
    "# Task 4: Character Counter"
   ]
  },
  {
   "cell_type": "code",
   "execution_count": 24,
   "metadata": {},
   "outputs": [
    {
     "name": "stdout",
     "output_type": "stream",
     "text": [
      "Opposite\n",
      "{'O': 1, 'p': 2, 'o': 1, 's': 1, 'i': 1, 't': 1, 'e': 1}\n"
     ]
    }
   ],
   "source": [
    "s = input(\"Enter the String you wanna count:\")\n",
    "print(s)\n",
    "new_s = []\n",
    "for i in s:\n",
    "    new_s.append(i)\n",
    "temp = 0\n",
    "dict = {}\n",
    "for i in new_s:\n",
    "    count = new_s.count(i)\n",
    "    dict[i] = count\n",
    "print(dict)"
   ]
  },
  {
   "cell_type": "markdown",
   "metadata": {},
   "source": [
    "# Task 5: Multiplication Table"
   ]
  },
  {
   "cell_type": "code",
   "execution_count": null,
   "metadata": {},
   "outputs": [
    {
     "name": "stdout",
     "output_type": "stream",
     "text": [
      "9  x  1  =  9\n",
      "9  x  2  =  18\n",
      "9  x  3  =  27\n",
      "9  x  4  =  36\n",
      "9  x  5  =  45\n",
      "9  x  6  =  54\n",
      "9  x  7  =  63\n",
      "9  x  8  =  72\n",
      "9  x  9  =  81\n",
      "9  x  10  =  90\n"
     ]
    }
   ],
   "source": [
    "n = int(input(\"Enter the number to display:\"))\n",
    "for i in range(1,11):\n",
    "    print(n,\" x \",i,\" = \",n*i)"
   ]
  },
  {
   "cell_type": "markdown",
   "metadata": {},
   "source": [
    "# Task 6: Pyramid"
   ]
  },
  {
   "cell_type": "code",
   "execution_count": 29,
   "metadata": {},
   "outputs": [
    {
     "name": "stdout",
     "output_type": "stream",
     "text": [
      "        * \n",
      "      * * * \n",
      "    * * * * * \n",
      "  * * * * * * * \n",
      "* * * * * * * * * \n",
      "* * * * * * * * * \n",
      "  * * * * * * * \n",
      "    * * * * * \n",
      "      * * * \n",
      "        * \n"
     ]
    }
   ],
   "source": [
    "for i in range(5):\n",
    "    for j in range(5-i-1):\n",
    "        print(\" \",end=\" \")\n",
    "    for j in range(2*i+1):\n",
    "        print(\"*\",end=\" \")\n",
    "    print()\n",
    "n = 5\n",
    "for i in range(n):\n",
    "    for j in range(i):\n",
    "        print(\" \", end=\" \")\n",
    "    for j in range(2*(n-i)-1):\n",
    "        print(\"*\",end=\" \")\n",
    "    print()\n"
   ]
  },
  {
   "cell_type": "markdown",
   "metadata": {},
   "source": [
    "## Method 1 Pascal's Triangle"
   ]
  },
  {
   "cell_type": "code",
   "execution_count": 30,
   "metadata": {},
   "outputs": [
    {
     "name": "stdout",
     "output_type": "stream",
     "text": [
      "     1 \n",
      "    1 1 \n",
      "   1 2 1 \n",
      "  1 3 3 1 \n",
      " 1 4 6 4 1 \n"
     ]
    }
   ],
   "source": [
    "for i in range(5):\n",
    "    for j in range(5-i):\n",
    "        print(\" \",end=\"\")\n",
    "    temp = 11**i\n",
    "    y = [int(d) for d in str(temp)]\n",
    "    for k in y:\n",
    "        print(k, end =\" \")\n",
    "    print()"
   ]
  },
  {
   "cell_type": "markdown",
   "metadata": {},
   "source": [
    "## Method 2 Pascal's Triangle"
   ]
  },
  {
   "cell_type": "code",
   "execution_count": 31,
   "metadata": {},
   "outputs": [
    {
     "name": "stdout",
     "output_type": "stream",
     "text": [
      "     1 \n",
      "    1 1 \n",
      "   1 2 1 \n",
      "  1 3 3 1 \n",
      " 1 4 6 4 1 \n"
     ]
    }
   ],
   "source": [
    "for i in range(5):\n",
    "    for j in range(5-i):\n",
    "        print(\" \",end=\"\")\n",
    "    a = value = 11**i\n",
    "    for j in range(i+1):        \n",
    "        b = a%10\n",
    "        print(int(b), end=\" \")\n",
    "        a = a/10\n",
    "    print()"
   ]
  },
  {
   "cell_type": "code",
   "execution_count": 1,
   "metadata": {},
   "outputs": [
    {
     "name": "stdout",
     "output_type": "stream",
     "text": [
      "* * * * * * * \n",
      "*           * \n",
      "*           * \n",
      "*           * \n",
      "*           * \n",
      "*           * \n",
      "* * * * * * * \n"
     ]
    }
   ],
   "source": [
    "n = int(input())\n",
    "for i in range(n):\n",
    "    for j in range(n):\n",
    "        if (i == 0 or i == n-1):\n",
    "            print(\"*\", end = \" \")\n",
    "        else:\n",
    "            if(j == 0 or j == n-1):\n",
    "                print(\"*\", end=\" \")\n",
    "            else:\n",
    "                print(\" \",end = \" \")\n",
    "    print()"
   ]
  },
  {
   "cell_type": "code",
   "execution_count": 3,
   "metadata": {},
   "outputs": [
    {
     "name": "stdout",
     "output_type": "stream",
     "text": [
      "                  1 \n",
      "                1 2 1 \n",
      "              1 2 3 2 1 \n",
      "            1 2 3 4 3 2 1 \n",
      "          1 2 3 4 5 4 3 2 1 \n",
      "        1 2 3 4 5 6 5 4 3 2 1 \n",
      "      1 2 3 4 5 6 7 6 5 4 3 2 1 \n",
      "    1 2 3 4 5 6 7 8 7 6 5 4 3 2 1 \n",
      "  1 2 3 4 5 6 7 8 9 8 7 6 5 4 3 2 1 \n",
      "1 2 3 4 5 6 7 8 9 10 9 8 7 6 5 4 3 2 1 \n"
     ]
    }
   ],
   "source": [
    "n=10\n",
    "for i in range(1, n + 1): \n",
    "    inc = list(range(1, i + 1))    \n",
    "    dec = list(range(i - 1, 0, -1))    \n",
    "    row = inc + dec  \n",
    "    for j in range(n-i):\n",
    "        print(\" \", end=\" \")  \n",
    "    for j in row:\n",
    "        print(j,end=\" \")    \n",
    "    print()"
   ]
  },
  {
   "cell_type": "markdown",
   "metadata": {},
   "source": [
    "# Task 7: FizzBuzz (Classic)"
   ]
  },
  {
   "cell_type": "code",
   "execution_count": 7,
   "metadata": {},
   "outputs": [
    {
     "name": "stdout",
     "output_type": "stream",
     "text": [
      "1\n",
      "2\n",
      "Fizz\n",
      "4\n",
      "Buzz\n",
      "Fizz\n",
      "7\n",
      "8\n",
      "Fizz\n",
      "Buzz\n",
      "11\n",
      "Fizz\n",
      "13\n",
      "14\n",
      "Fizz\n",
      "16\n",
      "17\n",
      "Fizz\n",
      "19\n",
      "Buzz\n"
     ]
    }
   ],
   "source": [
    "n = 20\n",
    "for i in range(1,n+1):\n",
    "    if i%3==0:\n",
    "        print(\"Fizz\")\n",
    "    elif i%5==0:\n",
    "        print(\"Buzz\")\n",
    "    else:\n",
    "        print(i)"
   ]
  },
  {
   "cell_type": "markdown",
   "metadata": {},
   "source": [
    "# Fibonnaci"
   ]
  },
  {
   "cell_type": "code",
   "execution_count": 1,
   "metadata": {},
   "outputs": [
    {
     "name": "stdout",
     "output_type": "stream",
     "text": [
      "0\n",
      "1\n",
      "1\n",
      "2\n",
      "3\n",
      "5\n",
      "8\n",
      "13\n",
      "21\n",
      "34\n"
     ]
    }
   ],
   "source": [
    "n = int(input(\"Enter the range :\"))\n",
    "a = 0\n",
    "b = 1\n",
    "print (a)\n",
    "print(b)\n",
    "temp = 0\n",
    "for i in range(n):\n",
    "    temp = b + a\n",
    "    print(temp)\n",
    "    a = b\n",
    "    b = temp"
   ]
  },
  {
   "cell_type": "markdown",
   "metadata": {},
   "source": [
    "# Armstrong"
   ]
  },
  {
   "cell_type": "code",
   "execution_count": 4,
   "metadata": {},
   "outputs": [
    {
     "name": "stdout",
     "output_type": "stream",
     "text": [
      "789 is not a Armstrong\n"
     ]
    }
   ],
   "source": [
    "n = int(input(\"enter the number to find Amstrong or not \"))\n",
    "temp =0\n",
    "l = [int(i) for i in str(n)]\n",
    "for i in l:\n",
    "    temp = temp + i**len(l)\n",
    "\n",
    "if(temp == n):\n",
    "    print(n,\"is a Armstrong\")\n",
    "else:\n",
    "    print(n,\"is not a Armstrong\")"
   ]
  },
  {
   "cell_type": "markdown",
   "metadata": {},
   "source": [
    "# Palindrome Num or Digit"
   ]
  },
  {
   "cell_type": "code",
   "execution_count": 12,
   "metadata": {},
   "outputs": [
    {
     "name": "stdout",
     "output_type": "stream",
     "text": [
      "Palindrone\n"
     ]
    }
   ],
   "source": [
    "n = input(\"Enter\")\n",
    "n = n.lower()\n",
    "x = n[::-1]\n",
    "if(x==n):\n",
    "    print(\"Palindrone\")\n",
    "else:\n",
    "    print(\"Nope!!\")\n"
   ]
  },
  {
   "cell_type": "code",
   "execution_count": null,
   "metadata": {},
   "outputs": [],
   "source": []
  }
 ],
 "metadata": {
  "kernelspec": {
   "display_name": "Python 3",
   "language": "python",
   "name": "python3"
  },
  "language_info": {
   "codemirror_mode": {
    "name": "ipython",
    "version": 3
   },
   "file_extension": ".py",
   "mimetype": "text/x-python",
   "name": "python",
   "nbconvert_exporter": "python",
   "pygments_lexer": "ipython3",
   "version": "3.12.1"
  }
 },
 "nbformat": 4,
 "nbformat_minor": 2
}
